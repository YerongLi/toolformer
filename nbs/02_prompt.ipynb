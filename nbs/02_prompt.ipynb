{
 "cells": [
  {
   "attachments": {},
   "cell_type": "markdown",
   "metadata": {},
   "source": [
    "# Prompts\n",
    "\n",
    "> Fill in a module description hered"
   ]
  },
  {
   "cell_type": "code",
   "execution_count": null,
   "metadata": {},
   "outputs": [],
   "source": [
    "# | default_exp prompt"
   ]
  },
  {
   "cell_type": "code",
   "execution_count": null,
   "metadata": {},
   "outputs": [],
   "source": [
    "# | hide\n",
    "from nbdev.showdoc import *"
   ]
  },
  {
   "cell_type": "code",
   "execution_count": null,
   "metadata": {},
   "outputs": [],
   "source": [
    "#| hide\n",
    "import nbdev; nbdev.nbdev_export()"
   ]
  },
  {
   "attachments": {},
   "cell_type": "markdown",
   "metadata": {},
   "source": [
    "### Calculator Prompt"
   ]
  },
  {
   "cell_type": "code",
   "execution_count": null,
   "metadata": {},
   "outputs": [],
   "source": [
    "#| export\n",
    "\n",
    "# Input: A rectangle has a length of 6 cm and a width of 4 cm. The area of the rectangle is 24 square cm.\n",
    "# Output: A rectangle has a length of 6 cm and a width of 4 cm. The area of the rectangle is [Calculator(\"6 * 4\")] square cm.\n",
    "# Input: The car traveled 200 miles in 4 hours. Its average speed was 50 miles per hour.\n",
    "# Output: The car traveled 200 miles in 4 hours. Its average speed was [Calculator(200 / 4)] 50 miles per hour.\n",
    "\n",
    "calculator_prompt = \"\"\"\n",
    "Your task is to add calls to a Calculator API to a piece of text. The API call should help you get information required to complete the text. \\n\n",
    "You can call the API by writing \"Calculator(operation)!\" where \"operation\" is the type of calculation you want to perform. Here are some examples of API calls:\n",
    "\n",
    "Input: John has 5 apples and his friend gave him 3 more. John now has 8 apples.\n",
    "Ouput: John has 5 apples and his friend gave him 3 more. John now has [Calculator(\"5 + 3\")] 8 apples.\n",
    "\n",
    "Input: Jane needs to divide 24 pieces of candy equally among 6 kids. Each kid will get 4 pieces of candy.\n",
    "Output: Jane needs to divide 24 pieces of candy equally among 6 kids. Each kid will get [Calculator(24 / 6)] 4 pieces of candy.\n",
    "\n",
    "Input: From this, we have 4 * 30 minutes = 120 minutes.\n",
    "Output: From this, we have 4 * 30 minutes = [Calculator(4 * 30)] 120 minutes.\n",
    "\n",
    "Input: {input}\n",
    "Output:\n",
    "\"\"\""
   ]
  },
  {
   "attachments": {},
   "cell_type": "markdown",
   "metadata": {},
   "source": [
    "### Question-Answering Prompt"
   ]
  },
  {
   "cell_type": "code",
   "execution_count": null,
   "metadata": {},
   "outputs": [],
   "source": [
    "#| export\n",
    "qa_prompt = \"\"\"\n",
    "Your task is to add calls to a Question Answering API to a piece of text. The questions should help you get information required to complete the text.\n",
    "You can call the API by writing \"[QA(question)]\" where \"question\" is the question you want to ask. Here are some examples of API calls:\n",
    "\n",
    "Input: Joe Biden was born in Scranton, Pennsylvania.\n",
    "Output: Joe Biden was born in [QA(\"Where was Joe Biden born?\")] Scranton, [QA(\"In which state is Scranton?\")] Pennsylvania.\n",
    "\n",
    "Input: Coca-Cola, or Coke, is a carbonated soft drink manufactured by the Coca-Cola Company.\n",
    "Output: Coca-Cola, or [QA(\"What other name is Coca-Cola known by?\")] Coke, is a carbonated soft drink manufactured by [QA(\"Who manufactures Coca-Cola?\")] the Coca-Cola Company.\n",
    "\n",
    "Input: {input}\n",
    "Output:\n",
    "\"\"\""
   ]
  },
  {
   "attachments": {},
   "cell_type": "markdown",
   "metadata": {},
   "source": [
    "### Wolfram Alpha"
   ]
  },
  {
   "cell_type": "code",
   "execution_count": null,
   "metadata": {},
   "outputs": [],
   "source": [
    "#| export\n",
    "wolframe_prompt = \"\"\"\n",
    "Your task is to add calls to a Scientific API to a piece of text. The questions should help you get information required to complete the text.\n",
    "You can call the API by writing \"[Wolframe(question)]\" where \"question\" is the question you want to ask. Here are some examples of API calls:\n",
    "\n",
    "Input: Joe Biden was born in Scranton, Pennsylvania\n",
    "Output: Joe Biden was born in [Wolframe(\"Where was Joe Biden born?\")] Scranton, [Wolframe(\"In which state is Scranton?\")] Pennsylvania.\n",
    "\n",
    "Input: The complex conjugate of 2 + 3i is 2 - 3i.\n",
    "Output: The complex conjugate of 2 + 3i is [Wolframe(\"What is the complex conjugate of 2 - 3i\")] 2 - 3i.\n",
    "\n",
    "Input: Solve x^2 + 4x + 6 = 0. The answer is x = -2 - i sqrt(2)\n",
    "Output: Solve x^2 + 4x + 6 = 0. The answer is [Wolframe(\"Solve x^2 + 4x + 6 = 0\")] x = -2 - i sqrt(2)\n",
    "\n",
    "Input: {input}\n",
    "Output:\n",
    "\"\"\""
   ]
  },
  {
   "cell_type": "code",
   "execution_count": null,
   "metadata": {},
   "outputs": [],
   "source": [
    "a = {}"
   ]
  },
  {
   "cell_type": "code",
   "execution_count": null,
   "metadata": {},
   "outputs": [],
   "source": [
    "a[1] = {}"
   ]
  },
  {
   "cell_type": "code",
   "execution_count": null,
   "metadata": {},
   "outputs": [],
   "source": [
    "a[1][2] = {}"
   ]
  },
  {
   "cell_type": "code",
   "execution_count": null,
   "metadata": {},
   "outputs": [
    {
     "name": "stdout",
     "output_type": "stream",
     "text": [
      "2 1\n"
     ]
    }
   ],
   "source": [
    "idx = 1\n",
    "j = idx\n",
    "j += 1\n",
    "\n",
    "print(j, idx)"
   ]
  },
  {
   "cell_type": "code",
   "execution_count": null,
   "metadata": {},
   "outputs": [],
   "source": []
  },
  {
   "cell_type": "code",
   "execution_count": null,
   "metadata": {},
   "outputs": [],
   "source": []
  },
  {
   "cell_type": "code",
   "execution_count": null,
   "metadata": {},
   "outputs": [
    {
     "data": {
      "text/plain": [
       "2"
      ]
     },
     "execution_count": null,
     "metadata": {},
     "output_type": "execute_result"
    }
   ],
   "source": [
    "j"
   ]
  },
  {
   "cell_type": "code",
   "execution_count": null,
   "metadata": {},
   "outputs": [
    {
     "name": "stdout",
     "output_type": "stream",
     "text": [
      "Starting iteration 0\n",
      "Inside while loop, i=0, j=0\n",
      "Skipping this iteration of while loop\n",
      "Inside while loop, i=0, j=2\n",
      "Starting iteration 1\n",
      "Inside while loop, i=1, j=0\n",
      "Skipping this iteration of while loop\n",
      "Inside while loop, i=1, j=2\n",
      "Starting iteration 2\n",
      "Inside while loop, i=2, j=0\n",
      "Skipping this iteration of while loop\n",
      "Inside while loop, i=2, j=2\n",
      "Starting iteration 3\n",
      "Inside while loop, i=3, j=0\n",
      "Skipping this iteration of while loop\n",
      "Inside while loop, i=3, j=2\n",
      "Starting iteration 4\n",
      "Inside while loop, i=4, j=0\n",
      "Skipping this iteration of while loop\n",
      "Inside while loop, i=4, j=2\n",
      "Starting iteration 5\n",
      "Inside while loop, i=5, j=0\n",
      "Skipping this iteration of while loop\n",
      "Inside while loop, i=5, j=2\n",
      "Starting iteration 6\n",
      "Inside while loop, i=6, j=0\n",
      "Skipping this iteration of while loop\n",
      "Inside while loop, i=6, j=2\n",
      "Starting iteration 7\n",
      "Inside while loop, i=7, j=0\n",
      "Skipping this iteration of while loop\n",
      "Inside while loop, i=7, j=2\n",
      "Starting iteration 8\n",
      "Inside while loop, i=8, j=0\n",
      "Skipping this iteration of while loop\n",
      "Inside while loop, i=8, j=2\n",
      "Starting iteration 9\n",
      "Inside while loop, i=9, j=0\n",
      "Skipping this iteration of while loop\n",
      "Inside while loop, i=9, j=2\n"
     ]
    }
   ],
   "source": [
    "for i in range(10):\n",
    "    print(f\"Starting iteration {i}\")\n",
    "    j = 0\n",
    "    while j < 3:\n",
    "        if j == 1:\n",
    "            print(\"Skipping this iteration of while loop\")\n",
    "            j += 1\n",
    "            continue\n",
    "        print(f\"Inside while loop, i={i}, j={j}\")\n",
    "        j += 1\n"
   ]
  },
  {
   "cell_type": "code",
   "execution_count": null,
   "metadata": {},
   "outputs": [],
   "source": []
  }
 ],
 "metadata": {
  "kernelspec": {
   "display_name": "python3",
   "language": "python",
   "name": "python3"
  }
 },
 "nbformat": 4,
 "nbformat_minor": 2
}
