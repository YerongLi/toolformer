{
 "cells": [
  {
   "attachments": {},
   "cell_type": "markdown",
   "metadata": {},
   "source": [
    "# Prompts\n",
    "\n",
    "> Fill in a module description hered"
   ]
  },
  {
   "cell_type": "code",
   "execution_count": null,
   "metadata": {},
   "outputs": [],
   "source": [
    "# | default_exp prompt"
   ]
  },
  {
   "cell_type": "code",
   "execution_count": null,
   "metadata": {},
   "outputs": [],
   "source": [
    "# | hide\n",
    "from nbdev.showdoc import *"
   ]
  },
  {
   "cell_type": "code",
   "execution_count": null,
   "metadata": {},
   "outputs": [],
   "source": [
    "#| hide\n",
    "import nbdev; nbdev.nbdev_export()"
   ]
  },
  {
   "cell_type": "code",
   "execution_count": null,
   "metadata": {},
   "outputs": [],
   "source": [
    "#| export\n",
    "calculator_prompt = \"\"\"\n",
    "Your task is to add calls to a Calculator API to a piece of text. The API call should help you get information required to complete the text. \\n\n",
    "You can call the API by writing \"Calculator(operation)!\" where \"operation\" is the type of calculation you want to perform. Here are some examples of API calls:\n",
    "\n",
    "Input: John has 5 apples and his friend gave him 3 more. John now has 8 apples.\n",
    "Ouput: John has 5 apples and his friend gave him 3 more. John now has [Calculator(\"5 + 3\")] 8 apples.\n",
    "\n",
    "Input: Jane needs to divide 24 pieces of candy equally among 6 kids. Each kid will get 4 pieces of candy.\n",
    "Output: Jane needs to divide 24 pieces of candy equally among 6 kids. Each kid will get [Calculator(24 / 6)] 4 pieces of candy.\n",
    "\n",
    "Input: A rectangle has a length of 6 cm and a width of 4 cm. The area of the rectangle is 24 square cm.\n",
    "Input: A rectangle has a length of 6 cm and a width of 4 cm. The area of the rectangle is [Calculator(\"6 * 4\")] square cm.\n",
    "\n",
    "Input: The car traveled 200 miles in 4 hours. Its average speed was 50 miles per hour.\n",
    "Output: The car traveled 200 miles in 4 hours. Its average speed was [Calculator(200 / 4)] 50 miles per hour.\n",
    "\n",
    "Input: {input}\n",
    "Output:\n",
    "\"\"\""
   ]
  }
 ],
 "metadata": {
  "kernelspec": {
   "display_name": "python3",
   "language": "python",
   "name": "python3"
  }
 },
 "nbformat": 4,
 "nbformat_minor": 2
}
