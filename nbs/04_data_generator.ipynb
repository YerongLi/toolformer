{
 "cells": [
  {
   "attachments": {},
   "cell_type": "markdown",
   "metadata": {},
   "source": [
    "# Data Generator\n",
    "\n",
    "> Fill in a module description hered"
   ]
  },
  {
   "cell_type": "code",
   "execution_count": null,
   "metadata": {},
   "outputs": [],
   "source": [
    "# | default_exp data_generator"
   ]
  },
  {
   "cell_type": "code",
   "execution_count": null,
   "metadata": {},
   "outputs": [],
   "source": [
    "# | hide\n",
    "from nbdev.showdoc import *"
   ]
  },
  {
   "cell_type": "code",
   "execution_count": null,
   "metadata": {},
   "outputs": [],
   "source": [
    "#| hide\n",
    "import nbdev; nbdev.nbdev_export()"
   ]
  },
  {
   "cell_type": "code",
   "execution_count": null,
   "metadata": {},
   "outputs": [],
   "source": [
    "#| export\n",
    "from typing import List, Callable\n",
    "\n",
    "import torch\n",
    "\n",
    "from toolformer.api import APIBase"
   ]
  },
  {
   "cell_type": "code",
   "execution_count": null,
   "metadata": {},
   "outputs": [],
   "source": [
    "#| export\n",
    "class DataGenerator:\n",
    "    def __init__(self, configs: dict, apis: List[APIBase]):\n",
    "        self.start_token = configs[\"augmentation_data\"][\"start_token\"]\n",
    "        self.end_token = configs[\"augmentation_data\"][\"end_token\"]\n",
    "        self.sampling_threshold = configs[\"augmentation_data\"][\"sampling_threshold\"]\n",
    "        self.filtering_threshold = configs[\"augmentation_data\"][\"filtering_threshold\"]\n",
    "        self.apis = apis\n",
    "        self.api_positions: List[int] = []\n",
    "    \n",
    "    def generate(\n",
    "        self,\n",
    "        prompt: str,\n",
    "        model: Callable,\n",
    "        tokenizer: Callable\n",
    "    ) -> List[str]:\n",
    "        prompt_ids = tokenizer(prompt, return_tensors=\"pt\")[\"input_ids\"][0]\n",
    "        generated_ids = prompt_ids\n",
    "        \n",
    "        # sampling\n",
    "        with torch.no_grad():    \n",
    "            while True:\n",
    "                logits = model(\n",
    "                    input_ids=generated_ids,\n",
    "                ).logits\n",
    "\n",
    "                last_token = logits[-1, :]\n",
    "                probs = torch.softmax(last_token, dim=-1)\n",
    "                \n",
    "                # find the top k tokens for api call\n",
    "                top_k_tokens = torch.topk(probs, k=5, dim=-1).indices\n",
    "                api_ids = torch.where(top_k_tokens == self.start_token)[0]\n",
    "                \n",
    "                if api_ids.size(0) > 0:\n",
    "                    api_positions = torch.cat((api_positions, api_ids), dim=0)\n",
    "                \n",
    "                # sampling a token\n",
    "                next_token = torch.multinomial(probs, num_samples=1)\n",
    "                generated_ids = torch.cat((generated_ids, next_token), dim=0)\n",
    "                \n",
    "                print(f\"api_ids: {api_ids}\")\n",
    "                print(f\"top_k: {top_k_tokens}\")\n",
    "                \n",
    "                if tokenizer.eos_token_id in top_k_tokens:\n",
    "                    break\n",
    "        \n",
    "        # filtering\n",
    "        \n",
    "        # return"
   ]
  }
 ],
 "metadata": {
  "kernelspec": {
   "display_name": "python3",
   "language": "python",
   "name": "python3"
  }
 },
 "nbformat": 4,
 "nbformat_minor": 2
}
