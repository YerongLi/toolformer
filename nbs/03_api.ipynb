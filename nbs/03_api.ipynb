{
 "cells": [
  {
   "attachments": {},
   "cell_type": "markdown",
   "metadata": {},
   "source": [
    "# APIs\n",
    "\n",
    "> Fill in a module description here"
   ]
  },
  {
   "cell_type": "code",
   "execution_count": null,
   "metadata": {},
   "outputs": [],
   "source": [
    "#| default_exp api"
   ]
  },
  {
   "cell_type": "code",
   "execution_count": null,
   "metadata": {},
   "outputs": [],
   "source": [
    "# | hide\n",
    "from nbdev.showdoc import *"
   ]
  },
  {
   "cell_type": "code",
   "execution_count": null,
   "metadata": {},
   "outputs": [],
   "source": [
    "#| hide\n",
    "import nbdev; nbdev.nbdev_export()"
   ]
  },
  {
   "cell_type": "code",
   "execution_count": null,
   "metadata": {},
   "outputs": [],
   "source": [
    "#| export\n",
    "from abc import abstractclassmethod\n",
    "\n",
    "import wolframalpha\n",
    "from langchain import PromptTemplate"
   ]
  },
  {
   "attachments": {},
   "cell_type": "markdown",
   "metadata": {},
   "source": [
    "### Base API"
   ]
  },
  {
   "cell_type": "code",
   "execution_count": null,
   "metadata": {},
   "outputs": [],
   "source": [
    "#| export\n",
    "class BaseAPI:\n",
    "    def __init__(\n",
    "        self,\n",
    "        name: str, # the name of the API call\n",
    "        prompt_template: PromptTemplate,\n",
    "        sampling_threshold: float = 0.2,\n",
    "        filtering_threshold: float = 0.2,\n",
    "    ):\n",
    "        self.name = name\n",
    "        self.prompt_template = prompt_template\n",
    "        self.sampling_threshold = sampling_threshold\n",
    "        self.filtering_threshold = filtering_threshold\n",
    "\n",
    "    @abstractclassmethod\n",
    "    def execute(self):\n",
    "        pass\n",
    "    \n",
    "    def __call__(self, *args: str, **kargs: str) -> str:\n",
    "        output = self.execute(*args, **kargs)\n",
    "        return str(output)"
   ]
  },
  {
   "attachments": {},
   "cell_type": "markdown",
   "metadata": {},
   "source": [
    "### Calculator API"
   ]
  },
  {
   "cell_type": "code",
   "execution_count": null,
   "metadata": {},
   "outputs": [
    {
     "ename": "NameError",
     "evalue": "name 'BaseAPI' is not defined",
     "output_type": "error",
     "traceback": [
      "\u001b[0;31m---------------------------------------------------------------------------\u001b[0m",
      "\u001b[0;31mNameError\u001b[0m                                 Traceback (most recent call last)",
      "Cell \u001b[0;32mIn[1], line 2\u001b[0m\n\u001b[1;32m      1\u001b[0m \u001b[39m#| export\u001b[39;00m\n\u001b[0;32m----> 2\u001b[0m \u001b[39mclass\u001b[39;00m \u001b[39mCalculatorAPI\u001b[39;00m(BaseAPI):\n\u001b[1;32m      3\u001b[0m     \u001b[39mdef\u001b[39;00m \u001b[39mexecute\u001b[39m(\u001b[39mself\u001b[39m, \u001b[39minput\u001b[39m: \u001b[39mstr\u001b[39m) \u001b[39m-\u001b[39m\u001b[39m>\u001b[39m \u001b[39mstr\u001b[39m:\n\u001b[1;32m      4\u001b[0m         \u001b[39mtry\u001b[39;00m:\n",
      "\u001b[0;31mNameError\u001b[0m: name 'BaseAPI' is not defined"
     ]
    }
   ],
   "source": [
    "#| export\n",
    "class CalculatorAPI(BaseAPI):\n",
    "    def execute(self, input: str) -> str:\n",
    "        try:\n",
    "            return eval(input)\n",
    "        except:\n",
    "            return \"\""
   ]
  },
  {
   "attachments": {},
   "cell_type": "markdown",
   "metadata": {},
   "source": [
    "### Wolframe Alpha API"
   ]
  },
  {
   "cell_type": "code",
   "execution_count": null,
   "metadata": {},
   "outputs": [],
   "source": [
    "#| export\n",
    "class WolframeAPI(BaseAPI):\n",
    "    def __init__(self, *args, api_key: str, **kargs):\n",
    "        super().__init__(*args, **kargs)\n",
    "        self.api_key = api_key\n",
    "        \n",
    "    def execute(self, input: str) -> str:\n",
    "        client = wolframalpha.Client(self.api_key)\n",
    "        res = client.query(input=input)\n",
    "        return next(res.results).text"
   ]
  }
 ],
 "metadata": {
  "kernelspec": {
   "display_name": "python3",
   "language": "python",
   "name": "python3"
  }
 },
 "nbformat": 4,
 "nbformat_minor": 2
}
